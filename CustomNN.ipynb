{
 "cells": [
  {
   "cell_type": "code",
   "execution_count": 4,
   "metadata": {
    "scrolled": true
   },
   "outputs": [
    {
     "name": "stdout",
     "output_type": "stream",
     "text": [
      "D:\\Skola\\2019_2020\\NSIETE\\TrainYourOwnYOLO-master\\Data\\Model_Weights\\trained_weights_final.h5 model, anchors, and classes loaded in 10.22sec.\n",
      "D:\\Skola\\2019_2020\\NSIETE\\TrainYourOwnYOLO-master\\Data\\Source_Images\\Test_Images\\1.jpg\n",
      "Time spent: 2.049sec\n",
      "D:\\Skola\\2019_2020\\NSIETE\\TrainYourOwnYOLO-master\\Data\\Source_Images\\Test_Images\\10.jpg\n",
      "Time spent: 1.141sec\n",
      "D:\\Skola\\2019_2020\\NSIETE\\TrainYourOwnYOLO-master\\Data\\Source_Images\\Test_Images\\11.jpg\n",
      "Time spent: 1.121sec\n",
      "D:\\Skola\\2019_2020\\NSIETE\\TrainYourOwnYOLO-master\\Data\\Source_Images\\Test_Images\\2.jpg\n",
      "Time spent: 1.136sec\n",
      "D:\\Skola\\2019_2020\\NSIETE\\TrainYourOwnYOLO-master\\Data\\Source_Images\\Test_Images\\3.jpg\n",
      "Time spent: 1.137sec\n",
      "D:\\Skola\\2019_2020\\NSIETE\\TrainYourOwnYOLO-master\\Data\\Source_Images\\Test_Images\\4.jpg\n",
      "Time spent: 1.134sec\n",
      "D:\\Skola\\2019_2020\\NSIETE\\TrainYourOwnYOLO-master\\Data\\Source_Images\\Test_Images\\5.jpg\n",
      "Time spent: 1.128sec\n",
      "D:\\Skola\\2019_2020\\NSIETE\\TrainYourOwnYOLO-master\\Data\\Source_Images\\Test_Images\\7.jpg\n",
      "Time spent: 1.136sec\n",
      "D:\\Skola\\2019_2020\\NSIETE\\TrainYourOwnYOLO-master\\Data\\Source_Images\\Test_Images\\8.jpg\n",
      "Time spent: 1.227sec\n",
      "D:\\Skola\\2019_2020\\NSIETE\\TrainYourOwnYOLO-master\\Data\\Source_Images\\Test_Images\\9.jpg\n",
      "Time spent: 1.221sec\n"
     ]
    },
    {
     "name": "stderr",
     "output_type": "stream",
     "text": [
      "Using TensorFlow backend.\n",
      "WARNING: Logging before flag parsing goes to stderr.\n",
      "W1209 00:17:01.978860  6780 deprecation_wrapper.py:119] From D:\\Python37\\lib\\site-packages\\keras\\backend\\tensorflow_backend.py:174: The name tf.get_default_session is deprecated. Please use tf.compat.v1.get_default_session instead.\n",
      "\n",
      "W1209 00:17:01.978860  6780 deprecation_wrapper.py:119] From D:\\Python37\\lib\\site-packages\\keras\\backend\\tensorflow_backend.py:181: The name tf.ConfigProto is deprecated. Please use tf.compat.v1.ConfigProto instead.\n",
      "\n",
      "W1209 00:17:01.979870  6780 deprecation_wrapper.py:119] From D:\\Python37\\lib\\site-packages\\keras\\backend\\tensorflow_backend.py:186: The name tf.Session is deprecated. Please use tf.compat.v1.Session instead.\n",
      "\n",
      "W1209 00:17:02.010471  6780 deprecation_wrapper.py:119] From D:\\Python37\\lib\\site-packages\\keras\\backend\\tensorflow_backend.py:190: The name tf.global_variables is deprecated. Please use tf.compat.v1.global_variables instead.\n",
      "\n",
      "W1209 00:17:02.013441  6780 deprecation_wrapper.py:119] From D:\\Python37\\lib\\site-packages\\keras\\backend\\tensorflow_backend.py:74: The name tf.get_default_graph is deprecated. Please use tf.compat.v1.get_default_graph instead.\n",
      "\n",
      "W1209 00:17:02.083434  6780 deprecation_wrapper.py:119] From D:\\Python37\\lib\\site-packages\\keras\\backend\\tensorflow_backend.py:1834: The name tf.nn.fused_batch_norm is deprecated. Please use tf.compat.v1.nn.fused_batch_norm instead.\n",
      "\n",
      "W1209 00:17:06.993332  6780 deprecation_wrapper.py:119] From D:\\Python37\\lib\\site-packages\\keras\\backend\\tensorflow_backend.py:2018: The name tf.image.resize_nearest_neighbor is deprecated. Please use tf.compat.v1.image.resize_nearest_neighbor instead.\n",
      "\n",
      "W1209 00:17:12.498291  6780 deprecation.py:323] From D:\\Python37\\lib\\site-packages\\tensorflow\\python\\ops\\array_ops.py:1354: add_dispatch_support.<locals>.wrapper (from tensorflow.python.ops.array_ops) is deprecated and will be removed in a future version.\n",
      "Instructions for updating:\n",
      "Use tf.where in 2.0, which has the same broadcast rule as np.where\n"
     ]
    }
   ],
   "source": [
    "!python \"TrainYourOwnYOLO-master/3_Inference/Detector.py\""
   ]
  },
  {
   "cell_type": "code",
   "execution_count": 5,
   "metadata": {},
   "outputs": [
    {
     "name": "stderr",
     "output_type": "stream",
     "text": [
      "WARNING: Logging before flag parsing goes to stderr.\n",
      "W1209 00:19:09.708668 19824 deprecation_wrapper.py:119] From GitHub/nsiete2/nsiete/license_plate_detection/license_plate_detection_v2.py:39: The name tf.GraphDef is deprecated. Please use tf.compat.v1.GraphDef instead.\n",
      "\n",
      "W1209 00:19:09.708668 19824 deprecation_wrapper.py:119] From GitHub/nsiete2/nsiete/license_plate_detection/license_plate_detection_v2.py:40: The name tf.gfile.GFile is deprecated. Please use tf.io.gfile.GFile instead.\n",
      "\n",
      "Traceback (most recent call last):\n",
      "  File \"GitHub/nsiete2/nsiete/license_plate_detection/license_plate_detection_v2.py\", line 41, in <module>\n",
      "    serialized_graph = fid.read()\n",
      "  File \"D:\\Python37\\lib\\site-packages\\tensorflow\\python\\lib\\io\\file_io.py\", line 122, in read\n",
      "    self._preread_check()\n",
      "  File \"D:\\Python37\\lib\\site-packages\\tensorflow\\python\\lib\\io\\file_io.py\", line 84, in _preread_check\n",
      "    compat.as_bytes(self.__name), 1024 * 512)\n",
      "tensorflow.python.framework.errors_impl.NotFoundError: NewRandomAccessFile failed to Create/Open: training/inference_graph/frozen_inference_graph.pb : The system cannot find the path specified.\n",
      "\n",
      "; No such process\n"
     ]
    }
   ],
   "source": [
    "!python \"GitHub/nsiete2/nsiete/license_plate_detection/license_plate_detection_v2.py\""
   ]
  },
  {
   "cell_type": "code",
   "execution_count": null,
   "metadata": {},
   "outputs": [],
   "source": []
  }
 ],
 "metadata": {
  "kernelspec": {
   "display_name": "Python 3",
   "language": "python",
   "name": "python3"
  },
  "language_info": {
   "codemirror_mode": {
    "name": "ipython",
    "version": 3
   },
   "file_extension": ".py",
   "mimetype": "text/x-python",
   "name": "python",
   "nbconvert_exporter": "python",
   "pygments_lexer": "ipython3",
   "version": "3.7.4"
  }
 },
 "nbformat": 4,
 "nbformat_minor": 2
}
